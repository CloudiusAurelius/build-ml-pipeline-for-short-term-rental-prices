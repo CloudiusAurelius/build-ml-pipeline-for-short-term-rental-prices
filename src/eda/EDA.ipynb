{
 "cells": [
  {
   "cell_type": "code",
   "execution_count": 1,
   "id": "cecf9353-65da-433c-afef-d846ccecaac8",
   "metadata": {},
   "outputs": [
    {
     "name": "stderr",
     "output_type": "stream",
     "text": [
      "/Users/bernd/miniconda3/envs/mlflow-cb6d751177b90ff98efdc395122f0cdac6c7b4e6/lib/python3.10/site-packages/wandb/sdk/launch/builder/build.py:11: UserWarning: pkg_resources is deprecated as an API. See https://setuptools.pypa.io/en/latest/pkg_resources.html. The pkg_resources package is slated for removal as early as 2025-11-30. Refrain from using this package or pin to Setuptools<81.\n",
      "  import pkg_resources\n",
      "/Users/bernd/miniconda3/envs/mlflow-cb6d751177b90ff98efdc395122f0cdac6c7b4e6/lib/python3.10/site-packages/wandb/sdk/launch/builder/build.py:11: UserWarning: pkg_resources is deprecated as an API. See https://setuptools.pypa.io/en/latest/pkg_resources.html. The pkg_resources package is slated for removal as early as 2025-11-30. Refrain from using this package or pin to Setuptools<81.\n",
      "  import pkg_resources\n",
      "\u001b[34m\u001b[1mwandb\u001b[0m: Currently logged in as: \u001b[33mcloudiusaurelius\u001b[0m (\u001b[33mcloudius-aurelius\u001b[0m). Use \u001b[1m`wandb login --relogin`\u001b[0m to force relogin\n"
     ]
    },
    {
     "data": {
      "text/html": [
       "wandb version 0.20.1 is available!  To upgrade, please run:\n",
       " $ pip install wandb --upgrade"
      ],
      "text/plain": [
       "<IPython.core.display.HTML object>"
      ]
     },
     "metadata": {},
     "output_type": "display_data"
    },
    {
     "data": {
      "text/html": [
       "Tracking run with wandb version 0.16.0"
      ],
      "text/plain": [
       "<IPython.core.display.HTML object>"
      ]
     },
     "metadata": {},
     "output_type": "display_data"
    },
    {
     "data": {
      "text/html": [
       "Run data is saved locally in <code>/Users/bernd/Documents/Courses/Udacity_MLDevOps/build-ml-pipeline-for-short-term-rental-prices/src/eda/wandb/run-20250627_151721-tukzhfft</code>"
      ],
      "text/plain": [
       "<IPython.core.display.HTML object>"
      ]
     },
     "metadata": {},
     "output_type": "display_data"
    },
    {
     "data": {
      "text/html": [
       "Syncing run <strong><a href='https://wandb.ai/cloudius-aurelius/nyc_airbnb/runs/tukzhfft' target=\"_blank\">cosmic-monkey-13</a></strong> to <a href='https://wandb.ai/cloudius-aurelius/nyc_airbnb' target=\"_blank\">Weights & Biases</a> (<a href='https://wandb.me/run' target=\"_blank\">docs</a>)<br/>"
      ],
      "text/plain": [
       "<IPython.core.display.HTML object>"
      ]
     },
     "metadata": {},
     "output_type": "display_data"
    },
    {
     "data": {
      "text/html": [
       " View project at <a href='https://wandb.ai/cloudius-aurelius/nyc_airbnb' target=\"_blank\">https://wandb.ai/cloudius-aurelius/nyc_airbnb</a>"
      ],
      "text/plain": [
       "<IPython.core.display.HTML object>"
      ]
     },
     "metadata": {},
     "output_type": "display_data"
    },
    {
     "data": {
      "text/html": [
       " View run at <a href='https://wandb.ai/cloudius-aurelius/nyc_airbnb/runs/tukzhfft' target=\"_blank\">https://wandb.ai/cloudius-aurelius/nyc_airbnb/runs/tukzhfft</a>"
      ],
      "text/plain": [
       "<IPython.core.display.HTML object>"
      ]
     },
     "metadata": {},
     "output_type": "display_data"
    }
   ],
   "source": [
    "import wandb\n",
    "import pandas as pd\n",
    "\n",
    "run = wandb.init(project=\"nyc_airbnb\", group=\"eda\", save_code=True)\n",
    "local_path = wandb.use_artifact(\"sample.csv:latest\").file()\n",
    "df = pd.read_csv(local_path)"
   ]
  },
  {
   "cell_type": "code",
   "execution_count": 2,
   "id": "fba18c4f-9ecc-47ec-a006-ecf553be74b0",
   "metadata": {},
   "outputs": [
    {
     "name": "stderr",
     "output_type": "stream",
     "text": [
      "/Users/bernd/miniconda3/envs/mlflow-cb6d751177b90ff98efdc395122f0cdac6c7b4e6/lib/python3.10/site-packages/tqdm/auto.py:21: TqdmWarning: IProgress not found. Please update jupyter and ipywidgets. See https://ipywidgets.readthedocs.io/en/stable/user_install.html\n",
      "  from .autonotebook import tqdm as notebook_tqdm\n",
      "/var/folders/1v/g21wmlmd55j7xj57x9dlvjdh0000gp/T/ipykernel_59410/1022129115.py:2: DeprecationWarning: `import pandas_profiling` is going to be deprecated by April 1st. Please use `import ydata_profiling` instead.\n",
      "  import pandas_profiling\n",
      "Summarize dataset:   0%|                                                                                                                   | 0/5 [00:00<?, ?it/s]/Users/bernd/miniconda3/envs/mlflow-cb6d751177b90ff98efdc395122f0cdac6c7b4e6/lib/python3.10/site-packages/ydata_profiling/model/typeset.py:125: FutureWarning: is_categorical_dtype is deprecated and will be removed in a future version. Use isinstance(dtype, CategoricalDtype) instead\n",
      "  not pdt.is_categorical_dtype(series)\n",
      "/Users/bernd/miniconda3/envs/mlflow-cb6d751177b90ff98efdc395122f0cdac6c7b4e6/lib/python3.10/site-packages/ydata_profiling/model/typeset.py:125: FutureWarning: is_categorical_dtype is deprecated and will be removed in a future version. Use isinstance(dtype, CategoricalDtype) instead\n",
      "  not pdt.is_categorical_dtype(series)\n",
      "/Users/bernd/miniconda3/envs/mlflow-cb6d751177b90ff98efdc395122f0cdac6c7b4e6/lib/python3.10/site-packages/ydata_profiling/model/typeset_relations.py:34: FutureWarning: is_categorical_dtype is deprecated and will be removed in a future version. Use isinstance(dtype, CategoricalDtype) instead\n",
      "  if pdt.is_categorical_dtype(series):\n",
      "/Users/bernd/miniconda3/envs/mlflow-cb6d751177b90ff98efdc395122f0cdac6c7b4e6/lib/python3.10/site-packages/ydata_profiling/model/typeset.py:125: FutureWarning: is_categorical_dtype is deprecated and will be removed in a future version. Use isinstance(dtype, CategoricalDtype) instead\n",
      "  not pdt.is_categorical_dtype(series)\n",
      "/Users/bernd/miniconda3/envs/mlflow-cb6d751177b90ff98efdc395122f0cdac6c7b4e6/lib/python3.10/site-packages/ydata_profiling/model/typeset.py:125: FutureWarning: is_categorical_dtype is deprecated and will be removed in a future version. Use isinstance(dtype, CategoricalDtype) instead\n",
      "  not pdt.is_categorical_dtype(series)\n",
      "/Users/bernd/miniconda3/envs/mlflow-cb6d751177b90ff98efdc395122f0cdac6c7b4e6/lib/python3.10/site-packages/ydata_profiling/model/typeset_relations.py:34: FutureWarning: is_categorical_dtype is deprecated and will be removed in a future version. Use isinstance(dtype, CategoricalDtype) instead\n",
      "  if pdt.is_categorical_dtype(series):\n",
      "/Users/bernd/miniconda3/envs/mlflow-cb6d751177b90ff98efdc395122f0cdac6c7b4e6/lib/python3.10/site-packages/ydata_profiling/model/typeset.py:125: FutureWarning: is_categorical_dtype is deprecated and will be removed in a future version. Use isinstance(dtype, CategoricalDtype) instead\n",
      "  not pdt.is_categorical_dtype(series)\n",
      "/Users/bernd/miniconda3/envs/mlflow-cb6d751177b90ff98efdc395122f0cdac6c7b4e6/lib/python3.10/site-packages/ydata_profiling/model/typeset_relations.py:34: FutureWarning: is_categorical_dtype is deprecated and will be removed in a future version. Use isinstance(dtype, CategoricalDtype) instead\n",
      "  if pdt.is_categorical_dtype(series):\n",
      "/Users/bernd/miniconda3/envs/mlflow-cb6d751177b90ff98efdc395122f0cdac6c7b4e6/lib/python3.10/site-packages/ydata_profiling/model/typeset_relations.py:34: FutureWarning: is_categorical_dtype is deprecated and will be removed in a future version. Use isinstance(dtype, CategoricalDtype) instead\n",
      "  if pdt.is_categorical_dtype(series):\n",
      "/Users/bernd/miniconda3/envs/mlflow-cb6d751177b90ff98efdc395122f0cdac6c7b4e6/lib/python3.10/site-packages/ydata_profiling/model/typeset.py:125: FutureWarning: is_categorical_dtype is deprecated and will be removed in a future version. Use isinstance(dtype, CategoricalDtype) instead\n",
      "  not pdt.is_categorical_dtype(series)\n",
      "/Users/bernd/miniconda3/envs/mlflow-cb6d751177b90ff98efdc395122f0cdac6c7b4e6/lib/python3.10/site-packages/ydata_profiling/model/typeset.py:125: FutureWarning: is_categorical_dtype is deprecated and will be removed in a future version. Use isinstance(dtype, CategoricalDtype) instead\n",
      "  not pdt.is_categorical_dtype(series)\n",
      "/Users/bernd/miniconda3/envs/mlflow-cb6d751177b90ff98efdc395122f0cdac6c7b4e6/lib/python3.10/site-packages/ydata_profiling/model/typeset_relations.py:34: FutureWarning: is_categorical_dtype is deprecated and will be removed in a future version. Use isinstance(dtype, CategoricalDtype) instead\n",
      "  if pdt.is_categorical_dtype(series):\n",
      "/Users/bernd/miniconda3/envs/mlflow-cb6d751177b90ff98efdc395122f0cdac6c7b4e6/lib/python3.10/site-packages/ydata_profiling/model/typeset_relations.py:34: FutureWarning: is_categorical_dtype is deprecated and will be removed in a future version. Use isinstance(dtype, CategoricalDtype) instead\n",
      "  if pdt.is_categorical_dtype(series):\n",
      "/Users/bernd/miniconda3/envs/mlflow-cb6d751177b90ff98efdc395122f0cdac6c7b4e6/lib/python3.10/site-packages/ydata_profiling/model/typeset.py:125: FutureWarning: is_categorical_dtype is deprecated and will be removed in a future version. Use isinstance(dtype, CategoricalDtype) instead\n",
      "  not pdt.is_categorical_dtype(series)\n",
      "/Users/bernd/miniconda3/envs/mlflow-cb6d751177b90ff98efdc395122f0cdac6c7b4e6/lib/python3.10/site-packages/ydata_profiling/model/typeset.py:125: FutureWarning: is_categorical_dtype is deprecated and will be removed in a future version. Use isinstance(dtype, CategoricalDtype) instead\n",
      "  not pdt.is_categorical_dtype(series)\n",
      "/Users/bernd/miniconda3/envs/mlflow-cb6d751177b90ff98efdc395122f0cdac6c7b4e6/lib/python3.10/site-packages/ydata_profiling/model/typeset_relations.py:34: FutureWarning: is_categorical_dtype is deprecated and will be removed in a future version. Use isinstance(dtype, CategoricalDtype) instead\n",
      "  if pdt.is_categorical_dtype(series):\n",
      "/Users/bernd/miniconda3/envs/mlflow-cb6d751177b90ff98efdc395122f0cdac6c7b4e6/lib/python3.10/site-packages/ydata_profiling/model/typeset_relations.py:34: FutureWarning: is_categorical_dtype is deprecated and will be removed in a future version. Use isinstance(dtype, CategoricalDtype) instead\n",
      "  if pdt.is_categorical_dtype(series):\n",
      "/Users/bernd/miniconda3/envs/mlflow-cb6d751177b90ff98efdc395122f0cdac6c7b4e6/lib/python3.10/site-packages/ydata_profiling/model/typeset.py:125: FutureWarning: is_categorical_dtype is deprecated and will be removed in a future version. Use isinstance(dtype, CategoricalDtype) instead\n",
      "  not pdt.is_categorical_dtype(series)\n",
      "/Users/bernd/miniconda3/envs/mlflow-cb6d751177b90ff98efdc395122f0cdac6c7b4e6/lib/python3.10/site-packages/ydata_profiling/model/typeset_relations.py:34: FutureWarning: is_categorical_dtype is deprecated and will be removed in a future version. Use isinstance(dtype, CategoricalDtype) instead\n",
      "  if pdt.is_categorical_dtype(series):\n",
      "Summarize dataset:   0%|                                                                           | 0/21 [00:00<?, ?it/s, Describe variable:neighbourhood_group]/Users/bernd/miniconda3/envs/mlflow-cb6d751177b90ff98efdc395122f0cdac6c7b4e6/lib/python3.10/site-packages/ydata_profiling/model/typeset.py:125: FutureWarning: is_categorical_dtype is deprecated and will be removed in a future version. Use isinstance(dtype, CategoricalDtype) instead\n",
      "  not pdt.is_categorical_dtype(series)\n",
      "Summarize dataset:   5%|███▏                                                               | 1/21 [00:00<00:03,  5.86it/s, Describe variable:neighbourhood_group]/Users/bernd/miniconda3/envs/mlflow-cb6d751177b90ff98efdc395122f0cdac6c7b4e6/lib/python3.10/site-packages/ydata_profiling/model/typeset_relations.py:34: FutureWarning: is_categorical_dtype is deprecated and will be removed in a future version. Use isinstance(dtype, CategoricalDtype) instead\n",
      "  if pdt.is_categorical_dtype(series):\n",
      "/Users/bernd/miniconda3/envs/mlflow-cb6d751177b90ff98efdc395122f0cdac6c7b4e6/lib/python3.10/site-packages/ydata_profiling/model/typeset_relations.py:34: FutureWarning: is_categorical_dtype is deprecated and will be removed in a future version. Use isinstance(dtype, CategoricalDtype) instead\n",
      "  if pdt.is_categorical_dtype(series):\n",
      "/Users/bernd/miniconda3/envs/mlflow-cb6d751177b90ff98efdc395122f0cdac6c7b4e6/lib/python3.10/site-packages/ydata_profiling/model/typeset.py:125: FutureWarning: is_categorical_dtype is deprecated and will be removed in a future version. Use isinstance(dtype, CategoricalDtype) instead\n",
      "  not pdt.is_categorical_dtype(series)\n",
      "/Users/bernd/miniconda3/envs/mlflow-cb6d751177b90ff98efdc395122f0cdac6c7b4e6/lib/python3.10/site-packages/ydata_profiling/model/typeset_relations.py:34: FutureWarning: is_categorical_dtype is deprecated and will be removed in a future version. Use isinstance(dtype, CategoricalDtype) instead\n",
      "  if pdt.is_categorical_dtype(series):\n",
      "/Users/bernd/miniconda3/envs/mlflow-cb6d751177b90ff98efdc395122f0cdac6c7b4e6/lib/python3.10/site-packages/ydata_profiling/model/typeset_relations.py:34: FutureWarning: is_categorical_dtype is deprecated and will be removed in a future version. Use isinstance(dtype, CategoricalDtype) instead\n",
      "  if pdt.is_categorical_dtype(series):\n",
      "/Users/bernd/miniconda3/envs/mlflow-cb6d751177b90ff98efdc395122f0cdac6c7b4e6/lib/python3.10/site-packages/ydata_profiling/model/typeset.py:125: FutureWarning: is_categorical_dtype is deprecated and will be removed in a future version. Use isinstance(dtype, CategoricalDtype) instead\n",
      "  not pdt.is_categorical_dtype(series)\n",
      "Summarize dataset:   5%|███▍                                                                     | 1/21 [00:00<00:03,  5.86it/s, Describe variable:neighbourhood]/Users/bernd/miniconda3/envs/mlflow-cb6d751177b90ff98efdc395122f0cdac6c7b4e6/lib/python3.10/site-packages/ydata_profiling/model/typeset.py:125: FutureWarning: is_categorical_dtype is deprecated and will be removed in a future version. Use isinstance(dtype, CategoricalDtype) instead\n",
      "  not pdt.is_categorical_dtype(series)\n",
      "/Users/bernd/miniconda3/envs/mlflow-cb6d751177b90ff98efdc395122f0cdac6c7b4e6/lib/python3.10/site-packages/ydata_profiling/model/typeset.py:125: FutureWarning: is_categorical_dtype is deprecated and will be removed in a future version. Use isinstance(dtype, CategoricalDtype) instead\n",
      "  not pdt.is_categorical_dtype(series)\n",
      "Summarize dataset:  14%|███████████▎                                                                   | 3/21 [00:00<00:03,  5.86it/s, Describe variable:host_id]/Users/bernd/miniconda3/envs/mlflow-cb6d751177b90ff98efdc395122f0cdac6c7b4e6/lib/python3.10/site-packages/ydata_profiling/model/typeset.py:125: FutureWarning: is_categorical_dtype is deprecated and will be removed in a future version. Use isinstance(dtype, CategoricalDtype) instead\n",
      "  not pdt.is_categorical_dtype(series)\n",
      "/Users/bernd/miniconda3/envs/mlflow-cb6d751177b90ff98efdc395122f0cdac6c7b4e6/lib/python3.10/site-packages/ydata_profiling/model/typeset.py:125: FutureWarning: is_categorical_dtype is deprecated and will be removed in a future version. Use isinstance(dtype, CategoricalDtype) instead\n",
      "  not pdt.is_categorical_dtype(series)\n",
      "Summarize dataset:  19%|████████████████                                                                    | 4/21 [00:00<00:01, 15.51it/s, Describe variable:id]/Users/bernd/miniconda3/envs/mlflow-cb6d751177b90ff98efdc395122f0cdac6c7b4e6/lib/python3.10/site-packages/ydata_profiling/model/typeset.py:125: FutureWarning: is_categorical_dtype is deprecated and will be removed in a future version. Use isinstance(dtype, CategoricalDtype) instead\n",
      "  not pdt.is_categorical_dtype(series)\n",
      "/Users/bernd/miniconda3/envs/mlflow-cb6d751177b90ff98efdc395122f0cdac6c7b4e6/lib/python3.10/site-packages/ydata_profiling/model/typeset_relations.py:34: FutureWarning: is_categorical_dtype is deprecated and will be removed in a future version. Use isinstance(dtype, CategoricalDtype) instead\n",
      "  if pdt.is_categorical_dtype(series):\n",
      "/Users/bernd/miniconda3/envs/mlflow-cb6d751177b90ff98efdc395122f0cdac6c7b4e6/lib/python3.10/site-packages/ydata_profiling/model/typeset.py:125: FutureWarning: is_categorical_dtype is deprecated and will be removed in a future version. Use isinstance(dtype, CategoricalDtype) instead\n",
      "  not pdt.is_categorical_dtype(series)\n",
      "/Users/bernd/miniconda3/envs/mlflow-cb6d751177b90ff98efdc395122f0cdac6c7b4e6/lib/python3.10/site-packages/ydata_profiling/model/typeset.py:125: FutureWarning: is_categorical_dtype is deprecated and will be removed in a future version. Use isinstance(dtype, CategoricalDtype) instead\n",
      "  not pdt.is_categorical_dtype(series)\n",
      "/Users/bernd/miniconda3/envs/mlflow-cb6d751177b90ff98efdc395122f0cdac6c7b4e6/lib/python3.10/site-packages/ydata_profiling/model/typeset.py:125: FutureWarning: is_categorical_dtype is deprecated and will be removed in a future version. Use isinstance(dtype, CategoricalDtype) instead\n",
      "  not pdt.is_categorical_dtype(series)\n",
      "/Users/bernd/miniconda3/envs/mlflow-cb6d751177b90ff98efdc395122f0cdac6c7b4e6/lib/python3.10/site-packages/ydata_profiling/model/typeset.py:125: FutureWarning: is_categorical_dtype is deprecated and will be removed in a future version. Use isinstance(dtype, CategoricalDtype) instead\n",
      "  not pdt.is_categorical_dtype(series)\n",
      "Summarize dataset:  29%|██████████████████████                                                       | 6/21 [00:00<00:01, 12.85it/s, Describe variable:longitude]/Users/bernd/miniconda3/envs/mlflow-cb6d751177b90ff98efdc395122f0cdac6c7b4e6/lib/python3.10/site-packages/ydata_profiling/model/typeset.py:125: FutureWarning: is_categorical_dtype is deprecated and will be removed in a future version. Use isinstance(dtype, CategoricalDtype) instead\n",
      "  not pdt.is_categorical_dtype(series)\n",
      "Summarize dataset:  38%|███████████████████████████▍                                            | 8/21 [00:00<00:01, 12.85it/s, Describe variable:minimum_nights]/Users/bernd/miniconda3/envs/mlflow-cb6d751177b90ff98efdc395122f0cdac6c7b4e6/lib/python3.10/site-packages/ydata_profiling/model/typeset.py:125: FutureWarning: is_categorical_dtype is deprecated and will be removed in a future version. Use isinstance(dtype, CategoricalDtype) instead\n",
      "  not pdt.is_categorical_dtype(series)\n",
      "/Users/bernd/miniconda3/envs/mlflow-cb6d751177b90ff98efdc395122f0cdac6c7b4e6/lib/python3.10/site-packages/ydata_profiling/model/typeset_relations.py:34: FutureWarning: is_categorical_dtype is deprecated and will be removed in a future version. Use isinstance(dtype, CategoricalDtype) instead\n",
      "  if pdt.is_categorical_dtype(series):\n",
      "Summarize dataset:  78%|████████████████████████████████████████████████████████████▎                | 18/23 [00:00<00:00, 20.26it/s, Calculate auto correlation]/Users/bernd/miniconda3/envs/mlflow-cb6d751177b90ff98efdc395122f0cdac6c7b4e6/lib/python3.10/site-packages/ydata_profiling/model/correlations.py:66: UserWarning: There was an attempt to calculate the auto correlation, but this failed.\n",
      "To hide this warning, disable the calculation\n",
      "(using `df.profile_report(correlations={\"auto\": {\"calculate\": False}})`\n",
      "If this is problematic for your use case, please report this as an issue:\n",
      "https://github.com/ydataai/ydata-profiling/issues\n",
      "(include the error message: 'Function <code object pandas_auto_compute at 0x174e118f0, file \"/Users/bernd/miniconda3/envs/mlflow-cb6d751177b90ff98efdc395122f0cdac6c7b4e6/lib/python3.10/site-packages/ydata_profiling/model/pandas/correlations_pandas.py\", line 167>')\n",
      "  warnings.warn(\n",
      "Summarize dataset: 100%|████████████████████████████████████████████████████████████████████████████████████████████| 126/126 [00:08<00:00, 14.13it/s, Completed]\n",
      "Generate report structure: 100%|███████████████████████████████████████████████████████████████████████████████████████████████████| 1/1 [00:04<00:00,  4.12s/it]\n",
      "                                                                                                                                                                 \r"
     ]
    },
    {
     "ename": "ModuleNotFoundError",
     "evalue": "No module named 'ipywidgets'",
     "output_type": "error",
     "traceback": [
      "\u001b[0;31m---------------------------------------------------------------------------\u001b[0m",
      "\u001b[0;31mModuleNotFoundError\u001b[0m                       Traceback (most recent call last)",
      "Cell \u001b[0;32mIn[2], line 6\u001b[0m\n\u001b[1;32m      4\u001b[0m \u001b[38;5;66;03m# Analyze\u001b[39;00m\n\u001b[1;32m      5\u001b[0m profile \u001b[38;5;241m=\u001b[39m pandas_profiling\u001b[38;5;241m.\u001b[39mProfileReport(df)\n\u001b[0;32m----> 6\u001b[0m \u001b[43mprofile\u001b[49m\u001b[38;5;241;43m.\u001b[39;49m\u001b[43mto_widgets\u001b[49m\u001b[43m(\u001b[49m\u001b[43m)\u001b[49m\n",
      "File \u001b[0;32m~/miniconda3/envs/mlflow-cb6d751177b90ff98efdc395122f0cdac6c7b4e6/lib/python3.10/site-packages/ydata_profiling/profile_report.py:542\u001b[0m, in \u001b[0;36mProfileReport.to_widgets\u001b[0;34m(self)\u001b[0m\n\u001b[1;32m    538\u001b[0m     \u001b[38;5;28;01mpass\u001b[39;00m\n\u001b[1;32m    540\u001b[0m \u001b[38;5;28;01mfrom\u001b[39;00m\u001b[38;5;250m \u001b[39m\u001b[38;5;21;01mIPython\u001b[39;00m\u001b[38;5;21;01m.\u001b[39;00m\u001b[38;5;21;01mcore\u001b[39;00m\u001b[38;5;21;01m.\u001b[39;00m\u001b[38;5;21;01mdisplay\u001b[39;00m\u001b[38;5;250m \u001b[39m\u001b[38;5;28;01mimport\u001b[39;00m display\n\u001b[0;32m--> 542\u001b[0m display(\u001b[38;5;28;43mself\u001b[39;49m\u001b[38;5;241;43m.\u001b[39;49m\u001b[43mwidgets\u001b[49m)\n",
      "File \u001b[0;32m~/miniconda3/envs/mlflow-cb6d751177b90ff98efdc395122f0cdac6c7b4e6/lib/python3.10/site-packages/ydata_profiling/profile_report.py:312\u001b[0m, in \u001b[0;36mProfileReport.widgets\u001b[0;34m(self)\u001b[0m\n\u001b[1;32m    307\u001b[0m     \u001b[38;5;28;01mraise\u001b[39;00m \u001b[38;5;167;01mRuntimeError\u001b[39;00m(\n\u001b[1;32m    308\u001b[0m         \u001b[38;5;124m\"\u001b[39m\u001b[38;5;124mWidgets interface not (yet) supported for comparing reports, please use the HTML rendering.\u001b[39m\u001b[38;5;124m\"\u001b[39m\n\u001b[1;32m    309\u001b[0m     )\n\u001b[1;32m    311\u001b[0m \u001b[38;5;28;01mif\u001b[39;00m \u001b[38;5;28mself\u001b[39m\u001b[38;5;241m.\u001b[39m_widgets \u001b[38;5;129;01mis\u001b[39;00m \u001b[38;5;28;01mNone\u001b[39;00m:\n\u001b[0;32m--> 312\u001b[0m     \u001b[38;5;28mself\u001b[39m\u001b[38;5;241m.\u001b[39m_widgets \u001b[38;5;241m=\u001b[39m \u001b[38;5;28;43mself\u001b[39;49m\u001b[38;5;241;43m.\u001b[39;49m\u001b[43m_render_widgets\u001b[49m\u001b[43m(\u001b[49m\u001b[43m)\u001b[49m\n\u001b[1;32m    313\u001b[0m \u001b[38;5;28;01mreturn\u001b[39;00m \u001b[38;5;28mself\u001b[39m\u001b[38;5;241m.\u001b[39m_widgets\n",
      "File \u001b[0;32m~/miniconda3/envs/mlflow-cb6d751177b90ff98efdc395122f0cdac6c7b4e6/lib/python3.10/site-packages/ydata_profiling/profile_report.py:445\u001b[0m, in \u001b[0;36mProfileReport._render_widgets\u001b[0;34m(self)\u001b[0m\n\u001b[1;32m    437\u001b[0m report \u001b[38;5;241m=\u001b[39m \u001b[38;5;28mself\u001b[39m\u001b[38;5;241m.\u001b[39mreport\n\u001b[1;32m    439\u001b[0m \u001b[38;5;28;01mwith\u001b[39;00m tqdm(\n\u001b[1;32m    440\u001b[0m     total\u001b[38;5;241m=\u001b[39m\u001b[38;5;241m1\u001b[39m,\n\u001b[1;32m    441\u001b[0m     desc\u001b[38;5;241m=\u001b[39m\u001b[38;5;124m\"\u001b[39m\u001b[38;5;124mRender widgets\u001b[39m\u001b[38;5;124m\"\u001b[39m,\n\u001b[1;32m    442\u001b[0m     disable\u001b[38;5;241m=\u001b[39m\u001b[38;5;129;01mnot\u001b[39;00m \u001b[38;5;28mself\u001b[39m\u001b[38;5;241m.\u001b[39mconfig\u001b[38;5;241m.\u001b[39mprogress_bar,\n\u001b[1;32m    443\u001b[0m     leave\u001b[38;5;241m=\u001b[39m\u001b[38;5;28;01mFalse\u001b[39;00m,\n\u001b[1;32m    444\u001b[0m ) \u001b[38;5;28;01mas\u001b[39;00m pbar:\n\u001b[0;32m--> 445\u001b[0m     widgets \u001b[38;5;241m=\u001b[39m \u001b[43mWidgetReport\u001b[49m\u001b[43m(\u001b[49m\u001b[43mcopy\u001b[49m\u001b[38;5;241;43m.\u001b[39;49m\u001b[43mdeepcopy\u001b[49m\u001b[43m(\u001b[49m\u001b[43mreport\u001b[49m\u001b[43m)\u001b[49m\u001b[43m)\u001b[49m\u001b[38;5;241m.\u001b[39mrender()\n\u001b[1;32m    446\u001b[0m     pbar\u001b[38;5;241m.\u001b[39mupdate()\n\u001b[1;32m    447\u001b[0m \u001b[38;5;28;01mreturn\u001b[39;00m widgets\n",
      "File \u001b[0;32m~/miniconda3/envs/mlflow-cb6d751177b90ff98efdc395122f0cdac6c7b4e6/lib/python3.10/site-packages/ydata_profiling/report/presentation/flavours/flavours.py:151\u001b[0m, in \u001b[0;36mWidgetReport\u001b[0;34m(structure)\u001b[0m\n\u001b[1;32m    150\u001b[0m \u001b[38;5;28;01mdef\u001b[39;00m\u001b[38;5;250m \u001b[39m\u001b[38;5;21mWidgetReport\u001b[39m(structure: Root) \u001b[38;5;241m-\u001b[39m\u001b[38;5;241m>\u001b[39m Root:\n\u001b[0;32m--> 151\u001b[0m     mapping \u001b[38;5;241m=\u001b[39m \u001b[43mget_widget_renderable_mapping\u001b[49m\u001b[43m(\u001b[49m\u001b[43m)\u001b[49m\n\u001b[1;32m    152\u001b[0m     apply_renderable_mapping(mapping, structure, flavour\u001b[38;5;241m=\u001b[39mWidgetReport)\n\u001b[1;32m    153\u001b[0m     \u001b[38;5;28;01mreturn\u001b[39;00m structure\n",
      "File \u001b[0;32m~/miniconda3/envs/mlflow-cb6d751177b90ff98efdc395122f0cdac6c7b4e6/lib/python3.10/site-packages/ydata_profiling/report/presentation/flavours/flavours.py:111\u001b[0m, in \u001b[0;36mget_widget_renderable_mapping\u001b[0;34m()\u001b[0m\n\u001b[1;32m     92\u001b[0m \u001b[38;5;28;01mdef\u001b[39;00m\u001b[38;5;250m \u001b[39m\u001b[38;5;21mget_widget_renderable_mapping\u001b[39m() \u001b[38;5;241m-\u001b[39m\u001b[38;5;241m>\u001b[39m Dict[Type[Renderable], Type[Renderable]]:\n\u001b[1;32m     93\u001b[0m     \u001b[38;5;28;01mfrom\u001b[39;00m\u001b[38;5;250m \u001b[39m\u001b[38;5;21;01mydata_profiling\u001b[39;00m\u001b[38;5;21;01m.\u001b[39;00m\u001b[38;5;21;01mreport\u001b[39;00m\u001b[38;5;21;01m.\u001b[39;00m\u001b[38;5;21;01mpresentation\u001b[39;00m\u001b[38;5;21;01m.\u001b[39;00m\u001b[38;5;21;01mcore\u001b[39;00m\u001b[38;5;250m \u001b[39m\u001b[38;5;28;01mimport\u001b[39;00m (\n\u001b[1;32m     94\u001b[0m         HTML,\n\u001b[1;32m     95\u001b[0m         Alerts,\n\u001b[0;32m   (...)\u001b[0m\n\u001b[1;32m    109\u001b[0m         VariableInfo,\n\u001b[1;32m    110\u001b[0m     )\n\u001b[0;32m--> 111\u001b[0m     \u001b[38;5;28;01mfrom\u001b[39;00m\u001b[38;5;250m \u001b[39m\u001b[38;5;21;01mydata_profiling\u001b[39;00m\u001b[38;5;21;01m.\u001b[39;00m\u001b[38;5;21;01mreport\u001b[39;00m\u001b[38;5;21;01m.\u001b[39;00m\u001b[38;5;21;01mpresentation\u001b[39;00m\u001b[38;5;21;01m.\u001b[39;00m\u001b[38;5;21;01mflavours\u001b[39;00m\u001b[38;5;21;01m.\u001b[39;00m\u001b[38;5;21;01mwidget\u001b[39;00m\u001b[38;5;250m \u001b[39m\u001b[38;5;28;01mimport\u001b[39;00m (\n\u001b[1;32m    112\u001b[0m         WidgetAlerts,\n\u001b[1;32m    113\u001b[0m         WidgetCollapse,\n\u001b[1;32m    114\u001b[0m         WidgetContainer,\n\u001b[1;32m    115\u001b[0m         WidgetCorrelationTable,\n\u001b[1;32m    116\u001b[0m         WidgetDropdown,\n\u001b[1;32m    117\u001b[0m         WidgetDuplicate,\n\u001b[1;32m    118\u001b[0m         WidgetFrequencyTable,\n\u001b[1;32m    119\u001b[0m         WidgetFrequencyTableSmall,\n\u001b[1;32m    120\u001b[0m         WidgetHTML,\n\u001b[1;32m    121\u001b[0m         WidgetImage,\n\u001b[1;32m    122\u001b[0m         WidgetRoot,\n\u001b[1;32m    123\u001b[0m         WidgetSample,\n\u001b[1;32m    124\u001b[0m         WidgetTable,\n\u001b[1;32m    125\u001b[0m         WidgetToggleButton,\n\u001b[1;32m    126\u001b[0m         WidgetVariable,\n\u001b[1;32m    127\u001b[0m         WidgetVariableInfo,\n\u001b[1;32m    128\u001b[0m     )\n\u001b[1;32m    130\u001b[0m     \u001b[38;5;28;01mreturn\u001b[39;00m {\n\u001b[1;32m    131\u001b[0m         Container: WidgetContainer,\n\u001b[1;32m    132\u001b[0m         Variable: WidgetVariable,\n\u001b[0;32m   (...)\u001b[0m\n\u001b[1;32m    146\u001b[0m         CorrelationTable: WidgetCorrelationTable,\n\u001b[1;32m    147\u001b[0m     }\n",
      "File \u001b[0;32m~/miniconda3/envs/mlflow-cb6d751177b90ff98efdc395122f0cdac6c7b4e6/lib/python3.10/site-packages/ydata_profiling/report/presentation/flavours/widget/__init__.py:1\u001b[0m\n\u001b[0;32m----> 1\u001b[0m \u001b[38;5;28;01mfrom\u001b[39;00m\u001b[38;5;250m \u001b[39m\u001b[38;5;21;01mydata_profiling\u001b[39;00m\u001b[38;5;21;01m.\u001b[39;00m\u001b[38;5;21;01mreport\u001b[39;00m\u001b[38;5;21;01m.\u001b[39;00m\u001b[38;5;21;01mpresentation\u001b[39;00m\u001b[38;5;21;01m.\u001b[39;00m\u001b[38;5;21;01mflavours\u001b[39;00m\u001b[38;5;21;01m.\u001b[39;00m\u001b[38;5;21;01mwidget\u001b[39;00m\u001b[38;5;21;01m.\u001b[39;00m\u001b[38;5;21;01malerts\u001b[39;00m\u001b[38;5;250m \u001b[39m\u001b[38;5;28;01mimport\u001b[39;00m WidgetAlerts\n\u001b[1;32m      2\u001b[0m \u001b[38;5;28;01mfrom\u001b[39;00m\u001b[38;5;250m \u001b[39m\u001b[38;5;21;01mydata_profiling\u001b[39;00m\u001b[38;5;21;01m.\u001b[39;00m\u001b[38;5;21;01mreport\u001b[39;00m\u001b[38;5;21;01m.\u001b[39;00m\u001b[38;5;21;01mpresentation\u001b[39;00m\u001b[38;5;21;01m.\u001b[39;00m\u001b[38;5;21;01mflavours\u001b[39;00m\u001b[38;5;21;01m.\u001b[39;00m\u001b[38;5;21;01mwidget\u001b[39;00m\u001b[38;5;21;01m.\u001b[39;00m\u001b[38;5;21;01mcollapse\u001b[39;00m\u001b[38;5;250m \u001b[39m\u001b[38;5;28;01mimport\u001b[39;00m WidgetCollapse\n\u001b[1;32m      3\u001b[0m \u001b[38;5;28;01mfrom\u001b[39;00m\u001b[38;5;250m \u001b[39m\u001b[38;5;21;01mydata_profiling\u001b[39;00m\u001b[38;5;21;01m.\u001b[39;00m\u001b[38;5;21;01mreport\u001b[39;00m\u001b[38;5;21;01m.\u001b[39;00m\u001b[38;5;21;01mpresentation\u001b[39;00m\u001b[38;5;21;01m.\u001b[39;00m\u001b[38;5;21;01mflavours\u001b[39;00m\u001b[38;5;21;01m.\u001b[39;00m\u001b[38;5;21;01mwidget\u001b[39;00m\u001b[38;5;21;01m.\u001b[39;00m\u001b[38;5;21;01mcontainer\u001b[39;00m\u001b[38;5;250m \u001b[39m\u001b[38;5;28;01mimport\u001b[39;00m (\n\u001b[1;32m      4\u001b[0m     WidgetContainer,\n\u001b[1;32m      5\u001b[0m )\n",
      "File \u001b[0;32m~/miniconda3/envs/mlflow-cb6d751177b90ff98efdc395122f0cdac6c7b4e6/lib/python3.10/site-packages/ydata_profiling/report/presentation/flavours/widget/alerts.py:3\u001b[0m\n\u001b[1;32m      1\u001b[0m \u001b[38;5;28;01mfrom\u001b[39;00m\u001b[38;5;250m \u001b[39m\u001b[38;5;21;01mtyping\u001b[39;00m\u001b[38;5;250m \u001b[39m\u001b[38;5;28;01mimport\u001b[39;00m List\n\u001b[0;32m----> 3\u001b[0m \u001b[38;5;28;01mfrom\u001b[39;00m\u001b[38;5;250m \u001b[39m\u001b[38;5;21;01mipywidgets\u001b[39;00m\u001b[38;5;250m \u001b[39m\u001b[38;5;28;01mimport\u001b[39;00m HTML, Button, widgets\n\u001b[1;32m      5\u001b[0m \u001b[38;5;28;01mfrom\u001b[39;00m\u001b[38;5;250m \u001b[39m\u001b[38;5;21;01mydata_profiling\u001b[39;00m\u001b[38;5;21;01m.\u001b[39;00m\u001b[38;5;21;01mreport\u001b[39;00m\u001b[38;5;21;01m.\u001b[39;00m\u001b[38;5;21;01mpresentation\u001b[39;00m\u001b[38;5;21;01m.\u001b[39;00m\u001b[38;5;21;01mcore\u001b[39;00m\u001b[38;5;250m \u001b[39m\u001b[38;5;28;01mimport\u001b[39;00m Alerts\n\u001b[1;32m      6\u001b[0m \u001b[38;5;28;01mfrom\u001b[39;00m\u001b[38;5;250m \u001b[39m\u001b[38;5;21;01mydata_profiling\u001b[39;00m\u001b[38;5;21;01m.\u001b[39;00m\u001b[38;5;21;01mreport\u001b[39;00m\u001b[38;5;21;01m.\u001b[39;00m\u001b[38;5;21;01mpresentation\u001b[39;00m\u001b[38;5;21;01m.\u001b[39;00m\u001b[38;5;21;01mflavours\u001b[39;00m\u001b[38;5;21;01m.\u001b[39;00m\u001b[38;5;21;01mhtml\u001b[39;00m\u001b[38;5;250m \u001b[39m\u001b[38;5;28;01mimport\u001b[39;00m templates\n",
      "\u001b[0;31mModuleNotFoundError\u001b[0m: No module named 'ipywidgets'"
     ]
    }
   ],
   "source": [
    "# Import Library\n",
    "import pandas_profiling\n",
    "\n",
    "# Analyze\n",
    "profile = pandas_profiling.ProfileReport(df)\n",
    "profile.to_widgets()"
   ]
  },
  {
   "cell_type": "code",
   "execution_count": 3,
   "id": "fd7cf2a3-6d7a-47b7-8130-172ee2872ad9",
   "metadata": {},
   "outputs": [
    {
     "name": "stdout",
     "output_type": "stream",
     "text": [
      "<class 'pandas.core.frame.DataFrame'>\n",
      "RangeIndex: 20000 entries, 0 to 19999\n",
      "Data columns (total 16 columns):\n",
      " #   Column                          Non-Null Count  Dtype  \n",
      "---  ------                          --------------  -----  \n",
      " 0   id                              20000 non-null  int64  \n",
      " 1   name                            19993 non-null  object \n",
      " 2   host_id                         20000 non-null  int64  \n",
      " 3   host_name                       19992 non-null  object \n",
      " 4   neighbourhood_group             20000 non-null  object \n",
      " 5   neighbourhood                   20000 non-null  object \n",
      " 6   latitude                        20000 non-null  float64\n",
      " 7   longitude                       20000 non-null  float64\n",
      " 8   room_type                       20000 non-null  object \n",
      " 9   price                           20000 non-null  int64  \n",
      " 10  minimum_nights                  20000 non-null  int64  \n",
      " 11  number_of_reviews               20000 non-null  int64  \n",
      " 12  last_review                     15877 non-null  object \n",
      " 13  reviews_per_month               15877 non-null  float64\n",
      " 14  calculated_host_listings_count  20000 non-null  int64  \n",
      " 15  availability_365                20000 non-null  int64  \n",
      "dtypes: float64(3), int64(7), object(6)\n",
      "memory usage: 2.4+ MB\n"
     ]
    }
   ],
   "source": [
    "# Check\n",
    "df.info()"
   ]
  },
  {
   "cell_type": "code",
   "execution_count": null,
   "id": "e1589cd8-922e-4329-8122-3b169a9d7ecc",
   "metadata": {},
   "outputs": [],
   "source": [
    "# Drop outliers\n",
    "min_price = 10\n",
    "max_price = 350\n",
    "idx = df['price'].between(min_price, max_price)\n",
    "df = df[idx].copy()\n",
    "# Convert last_review to datetime\n",
    "df['last_review'] = pd.to_datetime(df['last_review'])"
   ]
  },
  {
   "cell_type": "code",
   "execution_count": 10,
   "id": "c42235f8-0c67-496f-8329-dbbf2b560ab6",
   "metadata": {},
   "outputs": [],
   "source": [
    "# Columns to check\n",
    "cols = ['price','minimum_nights','number_of_reviews','reviews_per_month','calculated_host_listings_count','availability_365']"
   ]
  },
  {
   "cell_type": "code",
   "execution_count": 11,
   "id": "1d4cdb7e-4f51-43cb-bf7c-4a6b9dabd7c1",
   "metadata": {},
   "outputs": [
    {
     "data": {
      "text/plain": [
       "price                             10.00\n",
       "minimum_nights                     1.00\n",
       "number_of_reviews                  0.00\n",
       "reviews_per_month                  0.01\n",
       "calculated_host_listings_count     1.00\n",
       "availability_365                   0.00\n",
       "dtype: float64"
      ]
     },
     "execution_count": 11,
     "metadata": {},
     "output_type": "execute_result"
    }
   ],
   "source": [
    "# Minimum\n",
    "df[cols].min()"
   ]
  },
  {
   "cell_type": "code",
   "execution_count": 12,
   "id": "e9da9dde-1d39-4d14-bdd7-81d26c8287b3",
   "metadata": {},
   "outputs": [
    {
     "data": {
      "text/plain": [
       "price                              350.00\n",
       "minimum_nights                    1250.00\n",
       "number_of_reviews                  607.00\n",
       "reviews_per_month                   27.95\n",
       "calculated_host_listings_count     327.00\n",
       "availability_365                   365.00\n",
       "dtype: float64"
      ]
     },
     "execution_count": 12,
     "metadata": {},
     "output_type": "execute_result"
    }
   ],
   "source": [
    "# Maximum\n",
    "df[cols].max()"
   ]
  },
  {
   "cell_type": "code",
   "execution_count": 7,
   "id": "cb7e7591-28b1-4268-962d-dba159f39be0",
   "metadata": {},
   "outputs": [
    {
     "name": "stdout",
     "output_type": "stream",
     "text": [
      "<class 'pandas.core.frame.DataFrame'>\n",
      "Index: 19001 entries, 0 to 19999\n",
      "Data columns (total 16 columns):\n",
      " #   Column                          Non-Null Count  Dtype         \n",
      "---  ------                          --------------  -----         \n",
      " 0   id                              19001 non-null  int64         \n",
      " 1   name                            18994 non-null  object        \n",
      " 2   host_id                         19001 non-null  int64         \n",
      " 3   host_name                       18993 non-null  object        \n",
      " 4   neighbourhood_group             19001 non-null  object        \n",
      " 5   neighbourhood                   19001 non-null  object        \n",
      " 6   latitude                        19001 non-null  float64       \n",
      " 7   longitude                       19001 non-null  float64       \n",
      " 8   room_type                       19001 non-null  object        \n",
      " 9   price                           19001 non-null  int64         \n",
      " 10  minimum_nights                  19001 non-null  int64         \n",
      " 11  number_of_reviews               19001 non-null  int64         \n",
      " 12  last_review                     15243 non-null  datetime64[ns]\n",
      " 13  reviews_per_month               15243 non-null  float64       \n",
      " 14  calculated_host_listings_count  19001 non-null  int64         \n",
      " 15  availability_365                19001 non-null  int64         \n",
      "dtypes: datetime64[ns](1), float64(3), int64(7), object(5)\n",
      "memory usage: 2.5+ MB\n"
     ]
    }
   ],
   "source": [
    "# Check\n",
    "df.info()"
   ]
  },
  {
   "cell_type": "code",
   "execution_count": 14,
   "id": "529e7d08-16f9-4772-a77a-0d5117e50b7a",
   "metadata": {},
   "outputs": [
    {
     "data": {
      "text/html": [
       "W&B sync reduced upload amount by 13.7%             "
      ],
      "text/plain": [
       "<IPython.core.display.HTML object>"
      ]
     },
     "metadata": {},
     "output_type": "display_data"
    },
    {
     "data": {
      "text/html": [
       " View run <strong style=\"color:#cdcd00\">cosmic-monkey-13</strong> at: <a href='https://wandb.ai/cloudius-aurelius/nyc_airbnb/runs/tukzhfft' target=\"_blank\">https://wandb.ai/cloudius-aurelius/nyc_airbnb/runs/tukzhfft</a><br/> View job at <a href='https://wandb.ai/cloudius-aurelius/nyc_airbnb/jobs/QXJ0aWZhY3RDb2xsZWN0aW9uOjY3MjQxODA0Ng==/version_details/v2' target=\"_blank\">https://wandb.ai/cloudius-aurelius/nyc_airbnb/jobs/QXJ0aWZhY3RDb2xsZWN0aW9uOjY3MjQxODA0Ng==/version_details/v2</a><br/>Synced 7 W&B file(s), 0 media file(s), 10 artifact file(s) and 1 other file(s)"
      ],
      "text/plain": [
       "<IPython.core.display.HTML object>"
      ]
     },
     "metadata": {},
     "output_type": "display_data"
    },
    {
     "data": {
      "text/html": [
       "Find logs at: <code>./wandb/run-20250627_151721-tukzhfft/logs</code>"
      ],
      "text/plain": [
       "<IPython.core.display.HTML object>"
      ]
     },
     "metadata": {},
     "output_type": "display_data"
    }
   ],
   "source": [
    "# Finalize\n",
    "run.finish()"
   ]
  },
  {
   "cell_type": "code",
   "execution_count": null,
   "id": "0209c82c-2b72-4124-939e-1c65dfb14b8b",
   "metadata": {},
   "outputs": [],
   "source": []
  }
 ],
 "metadata": {
  "kernelspec": {
   "display_name": "Python 3 (ipykernel)",
   "language": "python",
   "name": "python3"
  },
  "language_info": {
   "codemirror_mode": {
    "name": "ipython",
    "version": 3
   },
   "file_extension": ".py",
   "mimetype": "text/x-python",
   "name": "python",
   "nbconvert_exporter": "python",
   "pygments_lexer": "ipython3",
   "version": "3.10.18"
  }
 },
 "nbformat": 4,
 "nbformat_minor": 5
}
